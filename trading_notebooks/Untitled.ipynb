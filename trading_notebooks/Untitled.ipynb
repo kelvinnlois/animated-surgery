{
 "cells": [
  {
   "cell_type": "markdown",
   "id": "a77f2c5e-1485-4d4d-aee2-9df436894174",
   "metadata": {},
   "source": [
    "<center>\n",
    "    <h1> Complete Guide To Volume Price Analysis</h1>\n",
    "    <italic>Anna Coulling</italic>\n",
    "</center>\n",
    "\n"
   ]
  },
  {
   "cell_type": "markdown",
   "id": "66d7329f-0c36-4791-8e43-29028175a681",
   "metadata": {},
   "source": [
    "<h3>Chapter 1 : There's Nothing New in Trading</h3>\n",
    "\n",
    "The basic laws of supply and demand with price, volume, time :\n",
    "- __The Law of Supply and Demand__ : When demand is greater than supply, then prices will rise to meet this demand, and conversely when supply is greater then demand then prices will fall, with the over supply being absorbed as a result.\n",
    "- __The Law of Cause and Effect__ : The effect will be in direct proportion to the cause. In other words, a small amount of volume activity will only result in a small amount of price action. \n",
    "- __The Law of Effort vs Result__ : The price action on the chart must reflect the volume action below. The two should always be in harmony with one another, with the effort ( which is the volume ) seen as the result (which is the consequent price action).\n",
    ">  This is\n",
    "where, as Wyckoff taught, we start to analyse each price bar, using a\n",
    "‘forensic approach’, to discover whether this law has been maintained. If it\n",
    "has, then the market is behaving as it should, and we can continue our\n",
    "analysis on the following bar. If not, and there is an anomaly, then we need to\n",
    "discover why, and just like a crime scene investigator, establish the reasons\n",
    "\n",
    "\n",
    "<h3>Chapter 2 : Why Volume?</h3>\n",
    "\n",
    "<h3>Chapter 3 : The Right Price</h3>\n",
    "\n",
    "<h3>Chapter 4 : Volume Price Analysis – First Principles</h3>\n",
    "\n",
    "- __Principle No 1: Art Not Science__ The reason software does not work with VPA, is simply that most of the analysis is subjective.\n",
    "- __Principle No 2 : Patience__ The moral here is not to act immediately as soon as a signal appears. Any signal is merely a warning sign of an impending change and we do have to be patient.\n",
    "- __Principle No 3 : It’s All Relative__ Volume is all relative, so it makes no difference as long as you are using the same feed all the time.\n",
    "- __Principle No 4 : Practise Makes Perfect__ It takes time to become proficient in any skill, but once learnt is never forgotten.\n",
    "- __Principle No 5 : Technical Analysis__ \n",
    "- __Principle No 6 : Validation or Anomaly__ Whether the price has been validated by the volume, or whether there is an anomaly with the price"
   ]
  },
  {
   "cell_type": "code",
   "execution_count": null,
   "id": "94bf7c38-9650-468a-8e8b-d1de92443419",
   "metadata": {},
   "outputs": [],
   "source": []
  }
 ],
 "metadata": {
  "kernelspec": {
   "display_name": "Python 3 (ipykernel)",
   "language": "python",
   "name": "python3"
  },
  "language_info": {
   "codemirror_mode": {
    "name": "ipython",
    "version": 3
   },
   "file_extension": ".py",
   "mimetype": "text/x-python",
   "name": "python",
   "nbconvert_exporter": "python",
   "pygments_lexer": "ipython3",
   "version": "3.8.5"
  }
 },
 "nbformat": 4,
 "nbformat_minor": 5
}
